{
 "cells": [
  {
   "cell_type": "markdown",
   "id": "a8a88bb1-e2d7-4b75-97f6-47e32875a6cd",
   "metadata": {},
   "source": [
    "## AI-Powered Financial Chatbot Prototype  \n",
    "\n",
    "The chatbot currently responds only to a fixed set of financial queries for selected companies and fiscal years:  \n",
    "\n",
    "### Supported Questions:\n",
    "- **What is the total revenue?**  \n",
    "- **What is the Net Income?**  \n",
    "- **What is the sum of total assets?**  \n",
    "- **What is the sum of total liabilities?**  \n",
    "- **What is cash flow from operating activities?**  \n",
    "- **What is the revenue growth (%)?**  \n",
    "- **What is the net income growth (%)?**  \n",
    "- **What is the assets growth (%)?**  \n",
    "- **What is the liabilities growth (%)?**  \n",
    "- **What is the cash flow from operations growth (%)?**  \n",
    "- **What is the year-by-year average revenue growth rate (%)?**  \n",
    "- **What is the year-by-year average net income growth rate (%)?**  \n",
    "- **What is the year-by-year average assets growth rate (%)?**  \n",
    "- **What is the year-by-year average liabilities growth rate (%)?**  \n",
    "- **What is the year-by-year average cash flow from operations growth rate (%)?**  \n"
   ]
  },
  {
   "cell_type": "code",
   "execution_count": 4,
   "id": "ee237e20-0413-4609-ad8f-87e38f9d1d4a",
   "metadata": {},
   "outputs": [],
   "source": [
    "import pandas as pd\n",
    "data = pd.read_csv('final_data_report.csv')\n",
    "data_2 = pd.read_csv('Summary_final_report.csv')"
   ]
  },
  {
   "cell_type": "code",
   "execution_count": 6,
   "id": "7db5b4e4-ad47-409b-b61f-b702f215c394",
   "metadata": {},
   "outputs": [
    {
     "data": {
      "text/html": [
       "<div>\n",
       "<style scoped>\n",
       "    .dataframe tbody tr th:only-of-type {\n",
       "        vertical-align: middle;\n",
       "    }\n",
       "\n",
       "    .dataframe tbody tr th {\n",
       "        vertical-align: top;\n",
       "    }\n",
       "\n",
       "    .dataframe thead th {\n",
       "        text-align: right;\n",
       "    }\n",
       "</style>\n",
       "<table border=\"1\" class=\"dataframe\">\n",
       "  <thead>\n",
       "    <tr style=\"text-align: right;\">\n",
       "      <th></th>\n",
       "      <th>Unnamed: 0</th>\n",
       "      <th>Year</th>\n",
       "      <th>Total Revenue</th>\n",
       "      <th>Net Income</th>\n",
       "      <th>Total Assets</th>\n",
       "      <th>Total Liabilities</th>\n",
       "      <th>Cash Flow from Operating Activities</th>\n",
       "      <th>Company</th>\n",
       "      <th>Revenue Growth (%)</th>\n",
       "      <th>Net Income Growth (%)</th>\n",
       "      <th>Assets Growth (%)</th>\n",
       "      <th>Liabilities Growth (%)</th>\n",
       "      <th>Cash Flow from Operations Growth(%)</th>\n",
       "    </tr>\n",
       "  </thead>\n",
       "  <tbody>\n",
       "    <tr>\n",
       "      <th>0</th>\n",
       "      <td>0</td>\n",
       "      <td>2024</td>\n",
       "      <td>245122</td>\n",
       "      <td>88136</td>\n",
       "      <td>512163</td>\n",
       "      <td>243686</td>\n",
       "      <td>118548</td>\n",
       "      <td>Microsoft</td>\n",
       "      <td>0.000000</td>\n",
       "      <td>0.000000</td>\n",
       "      <td>0.000000</td>\n",
       "      <td>0.000000</td>\n",
       "      <td>0.000000</td>\n",
       "    </tr>\n",
       "    <tr>\n",
       "      <th>1</th>\n",
       "      <td>1</td>\n",
       "      <td>2023</td>\n",
       "      <td>211915</td>\n",
       "      <td>72361</td>\n",
       "      <td>411976</td>\n",
       "      <td>205753</td>\n",
       "      <td>87582</td>\n",
       "      <td>Microsoft</td>\n",
       "      <td>-13.547132</td>\n",
       "      <td>-17.898475</td>\n",
       "      <td>-19.561546</td>\n",
       "      <td>-15.566344</td>\n",
       "      <td>-26.121065</td>\n",
       "    </tr>\n",
       "    <tr>\n",
       "      <th>2</th>\n",
       "      <td>2</td>\n",
       "      <td>2022</td>\n",
       "      <td>198270</td>\n",
       "      <td>72738</td>\n",
       "      <td>364840</td>\n",
       "      <td>198298</td>\n",
       "      <td>89035</td>\n",
       "      <td>Microsoft</td>\n",
       "      <td>-6.438902</td>\n",
       "      <td>0.520999</td>\n",
       "      <td>-11.441443</td>\n",
       "      <td>-3.623276</td>\n",
       "      <td>1.659017</td>\n",
       "    </tr>\n",
       "    <tr>\n",
       "      <th>3</th>\n",
       "      <td>3</td>\n",
       "      <td>2021</td>\n",
       "      <td>168088</td>\n",
       "      <td>61271</td>\n",
       "      <td>333779</td>\n",
       "      <td>191791</td>\n",
       "      <td>76740</td>\n",
       "      <td>Microsoft</td>\n",
       "      <td>-15.222676</td>\n",
       "      <td>-15.764800</td>\n",
       "      <td>-8.513595</td>\n",
       "      <td>-3.281425</td>\n",
       "      <td>-13.809176</td>\n",
       "    </tr>\n",
       "    <tr>\n",
       "      <th>4</th>\n",
       "      <td>4</td>\n",
       "      <td>2024</td>\n",
       "      <td>97690</td>\n",
       "      <td>7091</td>\n",
       "      <td>106618</td>\n",
       "      <td>43009</td>\n",
       "      <td>14923</td>\n",
       "      <td>Tesla</td>\n",
       "      <td>0.000000</td>\n",
       "      <td>0.000000</td>\n",
       "      <td>0.000000</td>\n",
       "      <td>0.000000</td>\n",
       "      <td>0.000000</td>\n",
       "    </tr>\n",
       "    <tr>\n",
       "      <th>5</th>\n",
       "      <td>5</td>\n",
       "      <td>2023</td>\n",
       "      <td>96773</td>\n",
       "      <td>14974</td>\n",
       "      <td>106618</td>\n",
       "      <td>43009</td>\n",
       "      <td>13256</td>\n",
       "      <td>Tesla</td>\n",
       "      <td>-0.938684</td>\n",
       "      <td>111.169088</td>\n",
       "      <td>0.000000</td>\n",
       "      <td>0.000000</td>\n",
       "      <td>-11.170676</td>\n",
       "    </tr>\n",
       "    <tr>\n",
       "      <th>6</th>\n",
       "      <td>6</td>\n",
       "      <td>2022</td>\n",
       "      <td>81462</td>\n",
       "      <td>12556</td>\n",
       "      <td>82338</td>\n",
       "      <td>36440</td>\n",
       "      <td>14724</td>\n",
       "      <td>Tesla</td>\n",
       "      <td>-15.821562</td>\n",
       "      <td>-16.147990</td>\n",
       "      <td>-22.772890</td>\n",
       "      <td>-15.273547</td>\n",
       "      <td>11.074231</td>\n",
       "    </tr>\n",
       "    <tr>\n",
       "      <th>7</th>\n",
       "      <td>7</td>\n",
       "      <td>2021</td>\n",
       "      <td>53821</td>\n",
       "      <td>5519</td>\n",
       "      <td>62131</td>\n",
       "      <td>30548</td>\n",
       "      <td>11497</td>\n",
       "      <td>Tesla</td>\n",
       "      <td>-33.931158</td>\n",
       "      <td>-56.044919</td>\n",
       "      <td>-24.541524</td>\n",
       "      <td>-16.169045</td>\n",
       "      <td>-21.916599</td>\n",
       "    </tr>\n",
       "    <tr>\n",
       "      <th>8</th>\n",
       "      <td>8</td>\n",
       "      <td>2024</td>\n",
       "      <td>391035</td>\n",
       "      <td>93736</td>\n",
       "      <td>364980</td>\n",
       "      <td>308030</td>\n",
       "      <td>118500</td>\n",
       "      <td>Apple</td>\n",
       "      <td>0.000000</td>\n",
       "      <td>0.000000</td>\n",
       "      <td>0.000000</td>\n",
       "      <td>0.000000</td>\n",
       "      <td>0.000000</td>\n",
       "    </tr>\n",
       "    <tr>\n",
       "      <th>9</th>\n",
       "      <td>9</td>\n",
       "      <td>2023</td>\n",
       "      <td>383285</td>\n",
       "      <td>96995</td>\n",
       "      <td>352583</td>\n",
       "      <td>290437</td>\n",
       "      <td>110543</td>\n",
       "      <td>Apple</td>\n",
       "      <td>-1.981920</td>\n",
       "      <td>3.476786</td>\n",
       "      <td>-3.396624</td>\n",
       "      <td>-5.711457</td>\n",
       "      <td>-6.714768</td>\n",
       "    </tr>\n",
       "    <tr>\n",
       "      <th>10</th>\n",
       "      <td>10</td>\n",
       "      <td>2022</td>\n",
       "      <td>394328</td>\n",
       "      <td>99803</td>\n",
       "      <td>352755</td>\n",
       "      <td>302083</td>\n",
       "      <td>122151</td>\n",
       "      <td>Apple</td>\n",
       "      <td>2.881146</td>\n",
       "      <td>2.894995</td>\n",
       "      <td>0.048783</td>\n",
       "      <td>4.009820</td>\n",
       "      <td>10.500891</td>\n",
       "    </tr>\n",
       "    <tr>\n",
       "      <th>11</th>\n",
       "      <td>11</td>\n",
       "      <td>2021</td>\n",
       "      <td>365817</td>\n",
       "      <td>94680</td>\n",
       "      <td>351002</td>\n",
       "      <td>287912</td>\n",
       "      <td>104038</td>\n",
       "      <td>Apple</td>\n",
       "      <td>-7.230275</td>\n",
       "      <td>-5.133112</td>\n",
       "      <td>-0.496945</td>\n",
       "      <td>-4.691095</td>\n",
       "      <td>-14.828368</td>\n",
       "    </tr>\n",
       "  </tbody>\n",
       "</table>\n",
       "</div>"
      ],
      "text/plain": [
       "    Unnamed: 0  Year  Total Revenue  Net Income  Total Assets  \\\n",
       "0            0  2024         245122       88136        512163   \n",
       "1            1  2023         211915       72361        411976   \n",
       "2            2  2022         198270       72738        364840   \n",
       "3            3  2021         168088       61271        333779   \n",
       "4            4  2024          97690        7091        106618   \n",
       "5            5  2023          96773       14974        106618   \n",
       "6            6  2022          81462       12556         82338   \n",
       "7            7  2021          53821        5519         62131   \n",
       "8            8  2024         391035       93736        364980   \n",
       "9            9  2023         383285       96995        352583   \n",
       "10          10  2022         394328       99803        352755   \n",
       "11          11  2021         365817       94680        351002   \n",
       "\n",
       "    Total Liabilities  Cash Flow from Operating Activities    Company  \\\n",
       "0              243686                               118548  Microsoft   \n",
       "1              205753                                87582  Microsoft   \n",
       "2              198298                                89035  Microsoft   \n",
       "3              191791                                76740  Microsoft   \n",
       "4               43009                                14923      Tesla   \n",
       "5               43009                                13256      Tesla   \n",
       "6               36440                                14724      Tesla   \n",
       "7               30548                                11497      Tesla   \n",
       "8              308030                               118500      Apple   \n",
       "9              290437                               110543      Apple   \n",
       "10             302083                               122151      Apple   \n",
       "11             287912                               104038      Apple   \n",
       "\n",
       "    Revenue Growth (%)  Net Income Growth (%)  Assets Growth (%)  \\\n",
       "0             0.000000               0.000000           0.000000   \n",
       "1           -13.547132             -17.898475         -19.561546   \n",
       "2            -6.438902               0.520999         -11.441443   \n",
       "3           -15.222676             -15.764800          -8.513595   \n",
       "4             0.000000               0.000000           0.000000   \n",
       "5            -0.938684             111.169088           0.000000   \n",
       "6           -15.821562             -16.147990         -22.772890   \n",
       "7           -33.931158             -56.044919         -24.541524   \n",
       "8             0.000000               0.000000           0.000000   \n",
       "9            -1.981920               3.476786          -3.396624   \n",
       "10            2.881146               2.894995           0.048783   \n",
       "11           -7.230275              -5.133112          -0.496945   \n",
       "\n",
       "    Liabilities Growth (%)  Cash Flow from Operations Growth(%)  \n",
       "0                 0.000000                             0.000000  \n",
       "1               -15.566344                           -26.121065  \n",
       "2                -3.623276                             1.659017  \n",
       "3                -3.281425                           -13.809176  \n",
       "4                 0.000000                             0.000000  \n",
       "5                 0.000000                           -11.170676  \n",
       "6               -15.273547                            11.074231  \n",
       "7               -16.169045                           -21.916599  \n",
       "8                 0.000000                             0.000000  \n",
       "9                -5.711457                            -6.714768  \n",
       "10                4.009820                            10.500891  \n",
       "11               -4.691095                           -14.828368  "
      ]
     },
     "execution_count": 6,
     "metadata": {},
     "output_type": "execute_result"
    }
   ],
   "source": [
    "data"
   ]
  },
  {
   "cell_type": "code",
   "execution_count": 8,
   "id": "fa8270ec-fb44-451c-832d-7d93691ee967",
   "metadata": {},
   "outputs": [
    {
     "name": "stdout",
     "output_type": "stream",
     "text": [
      "Year by Year Average Growth from 2021 to 2024\n"
     ]
    },
    {
     "data": {
      "text/html": [
       "<div>\n",
       "<style scoped>\n",
       "    .dataframe tbody tr th:only-of-type {\n",
       "        vertical-align: middle;\n",
       "    }\n",
       "\n",
       "    .dataframe tbody tr th {\n",
       "        vertical-align: top;\n",
       "    }\n",
       "\n",
       "    .dataframe thead th {\n",
       "        text-align: right;\n",
       "    }\n",
       "</style>\n",
       "<table border=\"1\" class=\"dataframe\">\n",
       "  <thead>\n",
       "    <tr style=\"text-align: right;\">\n",
       "      <th></th>\n",
       "      <th>Unnamed: 0</th>\n",
       "      <th>Company</th>\n",
       "      <th>Revenue Growth (%)</th>\n",
       "      <th>Net Income Growth (%)</th>\n",
       "      <th>Assets Growth (%)</th>\n",
       "      <th>Liabilities Growth (%)</th>\n",
       "      <th>Cash Flow from Operations Growth(%)</th>\n",
       "    </tr>\n",
       "  </thead>\n",
       "  <tbody>\n",
       "    <tr>\n",
       "      <th>0</th>\n",
       "      <td>0</td>\n",
       "      <td>Apple</td>\n",
       "      <td>-1.582762</td>\n",
       "      <td>0.309667</td>\n",
       "      <td>-0.961197</td>\n",
       "      <td>-1.598183</td>\n",
       "      <td>-2.760561</td>\n",
       "    </tr>\n",
       "    <tr>\n",
       "      <th>1</th>\n",
       "      <td>1</td>\n",
       "      <td>Microsoft</td>\n",
       "      <td>-8.802178</td>\n",
       "      <td>-8.285569</td>\n",
       "      <td>-9.879146</td>\n",
       "      <td>-5.617761</td>\n",
       "      <td>-9.567806</td>\n",
       "    </tr>\n",
       "    <tr>\n",
       "      <th>2</th>\n",
       "      <td>2</td>\n",
       "      <td>Tesla</td>\n",
       "      <td>-12.672851</td>\n",
       "      <td>9.744045</td>\n",
       "      <td>-11.828604</td>\n",
       "      <td>-7.860648</td>\n",
       "      <td>-5.503261</td>\n",
       "    </tr>\n",
       "  </tbody>\n",
       "</table>\n",
       "</div>"
      ],
      "text/plain": [
       "   Unnamed: 0    Company  Revenue Growth (%)  Net Income Growth (%)  \\\n",
       "0           0      Apple           -1.582762               0.309667   \n",
       "1           1  Microsoft           -8.802178              -8.285569   \n",
       "2           2      Tesla          -12.672851               9.744045   \n",
       "\n",
       "   Assets Growth (%)  Liabilities Growth (%)  \\\n",
       "0          -0.961197               -1.598183   \n",
       "1          -9.879146               -5.617761   \n",
       "2         -11.828604               -7.860648   \n",
       "\n",
       "   Cash Flow from Operations Growth(%)  \n",
       "0                            -2.760561  \n",
       "1                            -9.567806  \n",
       "2                            -5.503261  "
      ]
     },
     "execution_count": 8,
     "metadata": {},
     "output_type": "execute_result"
    }
   ],
   "source": [
    "print(\"Year by Year Average Growth from 2021 to 2024\")\n",
    "data_2"
   ]
  },
  {
   "cell_type": "code",
   "execution_count": 14,
   "id": "6341f2f3-c719-4d10-83a7-41823f6e31b4",
   "metadata": {
    "scrolled": true
   },
   "outputs": [
    {
     "name": "stdout",
     "output_type": "stream",
     "text": [
      "----------------------------------------------------------------------------\n"
     ]
    },
    {
     "name": "stdin",
     "output_type": "stream",
     "text": [
      "\n",
      "Enter Hi to start the chatbot session; type 'exit' to quit):  hi\n"
     ]
    },
    {
     "name": "stdout",
     "output_type": "stream",
     "text": [
      "\n",
      "Hello! Welcome to AI Driven Financial Chatbot!!!\n",
      "\n",
      "I can help you with your financial queries\n",
      "Please select the company name from below: -\n",
      "\n",
      "1.Microsoft \n",
      "2.Tesla \n",
      "3.Apple\n"
     ]
    },
    {
     "name": "stdin",
     "output_type": "stream",
     "text": [
      "Enter company name :  microsoft\n"
     ]
    },
    {
     "name": "stdout",
     "output_type": "stream",
     "text": [
      "\n",
      "The data for the fiscal year 2024, 2023, 2022, and 2021 is currently available\n"
     ]
    },
    {
     "name": "stdin",
     "output_type": "stream",
     "text": [
      "The fiscal year for the selected company :  2024\n"
     ]
    },
    {
     "name": "stdout",
     "output_type": "stream",
     "text": [
      "\n",
      "Please enter your query\n"
     ]
    },
    {
     "name": "stdin",
     "output_type": "stream",
     "text": [
      " What is the liabilities growth(%) ?\n"
     ]
    },
    {
     "name": "stdout",
     "output_type": "stream",
     "text": [
      "The Liabilities Growth(%) for Microsoft for fiscal year 2024 is 0.0(%)\n",
      "----------------------------------------------------------------------------\n"
     ]
    },
    {
     "name": "stdin",
     "output_type": "stream",
     "text": [
      "\n",
      "Enter Hi to start the chatbot session; type 'exit' to quit):  hi\n"
     ]
    },
    {
     "name": "stdout",
     "output_type": "stream",
     "text": [
      "\n",
      "Hello! Welcome to AI Driven Financial Chatbot!!!\n",
      "\n",
      "I can help you with your financial queries\n",
      "Please select the company name from below: -\n",
      "\n",
      "1.Microsoft \n",
      "2.Tesla \n",
      "3.Apple\n"
     ]
    },
    {
     "name": "stdin",
     "output_type": "stream",
     "text": [
      "Enter company name :  tesla\n"
     ]
    },
    {
     "name": "stdout",
     "output_type": "stream",
     "text": [
      "\n",
      "The data for the fiscal year 2024, 2023, 2022, and 2021 is currently available\n"
     ]
    },
    {
     "name": "stdin",
     "output_type": "stream",
     "text": [
      "The fiscal year for the selected company :  2021\n"
     ]
    },
    {
     "name": "stdout",
     "output_type": "stream",
     "text": [
      "\n",
      "Please enter your query\n"
     ]
    },
    {
     "name": "stdin",
     "output_type": "stream",
     "text": [
      " What is the sum of total assets?\n"
     ]
    },
    {
     "name": "stdout",
     "output_type": "stream",
     "text": [
      "The sum of Total Assets for Tesla for fiscal year 2021 is $ 62131\n",
      "----------------------------------------------------------------------------\n"
     ]
    },
    {
     "name": "stdin",
     "output_type": "stream",
     "text": [
      "\n",
      "Enter Hi to start the chatbot session; type 'exit' to quit):  quit\n"
     ]
    },
    {
     "name": "stdout",
     "output_type": "stream",
     "text": [
      "Enter 'Hi' Properly!!!!! by starting the chatbot session again\n"
     ]
    }
   ],
   "source": [
    "%run AI_driven_Financial_ChatBot_Prototype.ipynb"
   ]
  },
  {
   "cell_type": "code",
   "execution_count": null,
   "id": "4f78a9ec-fb99-450f-9684-ece11dbb631f",
   "metadata": {},
   "outputs": [],
   "source": []
  }
 ],
 "metadata": {
  "kernelspec": {
   "display_name": "Python [conda env:anaconda3] *",
   "language": "python",
   "name": "conda-env-anaconda3-py"
  },
  "language_info": {
   "codemirror_mode": {
    "name": "ipython",
    "version": 3
   },
   "file_extension": ".py",
   "mimetype": "text/x-python",
   "name": "python",
   "nbconvert_exporter": "python",
   "pygments_lexer": "ipython3",
   "version": "3.12.7"
  }
 },
 "nbformat": 4,
 "nbformat_minor": 5
}
